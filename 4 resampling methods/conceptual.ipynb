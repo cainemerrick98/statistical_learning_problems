{
 "cells": [
  {
   "cell_type": "markdown",
   "metadata": {},
   "source": [
    "# Resampling"
   ]
  },
  {
   "cell_type": "markdown",
   "metadata": {},
   "source": [
    "*1. Using basic statistical properties of the variance, as well as single variable calculus, derive (5.6). In other words, prove that $\\alpha$ given by (5.6) does indeed minimize $Var(\\alpha X + (1 − \\alpha)Y)$. See (5.6) below*"
   ]
  },
  {
   "cell_type": "markdown",
   "metadata": {},
   "source": [
    "![alt text](<../images/alpha estimator.png>)"
   ]
  },
  {
   "cell_type": "markdown",
   "metadata": {},
   "source": [
    "First begin by applying the variance of the sum rule to the expression $Var(\\alpha X + (1 − \\alpha)Y)$ for,\n",
    "\n",
    "$$\n",
    "Var(\\alpha X + (1 − \\alpha)Y) = Var(\\alpha X) + Var((1 - \\alpha)Y) + 2Cov(\\alpha X, (1 - \\alpha) Y) \n",
    "$$\n",
    "\n",
    "Then by apply the basic properties of variance and covariance we can show that\n",
    "\n",
    "$$\n",
    "= \\alpha ^{2}Var(X) + (1 - \\alpha)^{2}Var(Y) + 2(\\alpha - \\alpha^{2})Cov(X,Y) \n",
    "$$\n",
    "\n",
    "Expanding the brackets for,\n",
    "\n",
    "$$\n",
    "= \\alpha ^{2}Var(X) + (1 - \\alpha)^{2}Var(Y) + 2\\alpha Cov(X,Y)  - 2\\alpha^{2}Cov(X,Y) \n",
    "$$\n",
    "\n",
    "Now we have an expression for the variance of the sum with all the alphas outside of another function. What we want to do now is find the alpha that minimises this expression. We can do this by differentiating the expression above - lets call it $f(\\alpha)$ - with respect to alpha and then solving for alpha when the derivative is equal to 0.\n",
    "\n",
    "$$\n",
    "\\frac{df(\\alpha)}{d\\alpha} = 2\\alpha Var(X) + (2\\alpha - 2)Var(Y) + 2Cov(X,Y) - 4\\alpha Cov(X,Y) = 0\n",
    "$$\n",
    "\n",
    "Simplifying for \n",
    "\n",
    "$$\n",
    "0 = \\alpha(Var(X) + Var(Y) - 2Cov(X, Y)) - Var(Y) + Cov(X, Y)\n",
    "$$\n",
    "\n",
    "$$\n",
    "Var(Y) - Cov(X, Y) = \\alpha(Var(X) + Var(Y) - 2Cov(X, Y))\n",
    "$$\n",
    "\n",
    "$$\n",
    "\\alpha = \\frac{Var(Y) - Cov(X, Y)}{Var(X) + Var(Y) - 2Cov(X, Y)} \n",
    "$$"
   ]
  },
  {
   "cell_type": "markdown",
   "metadata": {},
   "source": [
    "*(2) We will now derive the probability that a given observation is part of a bootstrap sample. Suppose that we obtain a bootstrap sample from a set of n observations.*"
   ]
  },
  {
   "cell_type": "markdown",
   "metadata": {},
   "source": [
    "*(a) What is the probability that the first bootstrap observation is not the jth observation from the original sample? Justify your answer.*\n",
    "\n",
    "The probability that the first bootstrap observation is not the $jth$ observation is simply $\\frac{n - 1}{n}$. This is because we have n observation to choose from and all of them are equally likely to be chosen, furthermore, n-1 of these choices are not the $jth$ observation."
   ]
  },
  {
   "cell_type": "markdown",
   "metadata": {},
   "source": [
    "*(b) What is the probability that the second bootstrap observation is not the jth observation from the original sample?*\n",
    "\n",
    "Because the bootstrap requires sampling *with replacement* this question is identical to the one above. Hence the probability and the justification is above.\n"
   ]
  }
 ],
 "metadata": {
  "language_info": {
   "name": "python"
  }
 },
 "nbformat": 4,
 "nbformat_minor": 2
}
