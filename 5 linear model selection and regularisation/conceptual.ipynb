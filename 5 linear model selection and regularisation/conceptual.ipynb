{
 "cells": [
  {
   "cell_type": "markdown",
   "metadata": {},
   "source": [
    "# Linear Model Selection And Regularisation"
   ]
  },
  {
   "cell_type": "code",
   "execution_count": 1,
   "metadata": {},
   "outputs": [],
   "source": [
    "import pandas as pd, numpy as np, matplotlib.pyplot as plt"
   ]
  },
  {
   "cell_type": "markdown",
   "metadata": {},
   "source": [
    "**1. We perform best subset, forward stepwise, and backward stepwise selection on a single data set. For each approach, we obtain $p + 1$ models, containing $0, 1, 2, . . . ,p$ predictors. Explain your answers**"
   ]
  },
  {
   "cell_type": "markdown",
   "metadata": {},
   "source": [
    "*(a) Which of the three models with k predictors has the smallest training RSS?*"
   ]
  },
  {
   "cell_type": "markdown",
   "metadata": {},
   "source": [
    "Best subset selection would have the smallest training RSS for a given k predictors. This is because, both backward and forward stepwise are constrained by the choice of predictors to include/remove in the previous step. The result is best subset can consider all combinations of the k predictors to choose from at each step and therefore will certainly find the combination that minimises the training RSS."
   ]
  },
  {
   "cell_type": "markdown",
   "metadata": {},
   "source": [
    "*(b) Which of the three models with k predictors has the smallest test RSS?*"
   ]
  },
  {
   "cell_type": "markdown",
   "metadata": {},
   "source": [
    "It is unclear which model will have the smallest test RSS. Best subset may overfit to the training data leading to poor test RSS scores. Forward and backward stepwise selection being constrained by their choices at previous steps may strike a balance between bias and variance leading to good test RSS scores."
   ]
  },
  {
   "cell_type": "markdown",
   "metadata": {},
   "source": [
    "**2. Comparing Regression Methods**\n",
    "\n",
    "For parts (a) through (c), indicate which of the following is correct Justify your answer.\n",
    "\n",
    "- More flexible and hence will give improved prediction accuracy when its increase in bias is less than its decrease in variance.\n",
    "- More flexible and hence will give improved prediction accuracy when its increase in variance is less than its decrease in bias.\n",
    "- Less flexible and hence will give improved prediction accuracy when its increase in bias is less than its decrease in variance.\n",
    "- Less flexible and hence will give improved prediction accuracy when its increase in variance is less than its decrease in bias."
   ]
  },
  {
   "cell_type": "markdown",
   "metadata": {},
   "source": [
    "*(a) The lasso relative to least squares*\n",
    "\n",
    "Is less flexible and will give improved predicition accuracy when the increase in bias is less than the decrease variance. The penalty term in the equation to fit a lasso regression has the effect of shrinking some coefficients to zero when the tuning parameter is sufficiently large. This leads to a simpler less flexible model"
   ]
  },
  {
   "cell_type": "markdown",
   "metadata": {},
   "source": [
    "*(b) Ridge regression relative to least squares*\n",
    "\n",
    "Is less flexible and will give improved predicition accuracy when the increase in bias is less than the decrease variance. The penalty term in the equation to fit a ridge regression has the effect of shrinking coefficients towards zero. This leads to a simpler less flexible model"
   ]
  },
  {
   "cell_type": "markdown",
   "metadata": {},
   "source": [
    "*(c) non-linear method relative to least squares*\n",
    "\n",
    "Is more flexible and hence will give improved prediction accuracy when its increase in variance is less than its decrease in bias. Non-linear methods can fit to a wider range of relationships between the predictors and the response. Hence they are more flexible than least squares which can only fit linear models\n"
   ]
  },
  {
   "cell_type": "markdown",
   "metadata": {},
   "source": [
    "**3. Suppose we estimate the regression coefficients in a linear regression model by minimizing**\n",
    "\n",
    "$$\n",
    "\\sum^{n}_{i=1} (y_{i} - \\beta_{0} - \\sum_{j=1}^{p}\\beta_{j}x_{ij})^{2} \\text{ subject to } \\sum_{j=1}^{p}|\\beta_{j}|\\le s\n",
    "$$\n",
    "\n",
    "**for a particular value of s. For parts (a) through (e), indicate which of i. through v. is correct. Justify your answer.**"
   ]
  },
  {
   "cell_type": "markdown",
   "metadata": {},
   "source": [
    "*(a) As we increase s from 0, the training RSS will:*\n",
    "\n",
    "The training RSS will decrease steadily. Increasing s is equivalent to increasing the flexibility of the model because larger coefficients can be fit, more flexible learning methods are more likely to overfit to the training data (they capture the noise in the training data) and hence as s increases the training RSS will decrease.\n",
    "\n",
    "*(b) same for test RSS*\n",
    "\n",
    "The test RSS will decrease initially and then begin to increase in a U shape. As we increase s our model will start to generalise well to the test data, however, as s becomes too large the coeffcients will start to capture noise in the training data and the test RSS will increase.\n",
    "\n",
    "*(c) same for variance*\n",
    "\n",
    "The variance will increase steadily as s increases. As s increases the flexibility of the model increases, this increases the scope for different data points to influence the fitted coefficients resulting in higher variance. Low values of s produces models with low variance because only a small range of values can used for the coefficients.\n",
    "\n",
    "*(d) same for squared bias*\n",
    "\n",
    "The squared bias will decrease steadily. When s is very low the bias in the model will be very high, the model can only fit a limited range of values for coeffcients and therefore their expected value will not equal to true value. As s increases larger coeffcients can be fit resulting in lower bias as we get closer to the true coefficients.\n",
    "\n",
    "*(e) same for irreducible error*\n",
    "\n",
    "This will stay the same regardless of the value of s. The irreducible error term captures the effect of variables not included in the model, random measurement errors and anything else we cannot measure. As such the value of s does not influence this term.\n"
   ]
  },
  {
   "cell_type": "markdown",
   "metadata": {},
   "source": [
    "**4. Suppose we estimate the regression coefficients in a linear regression model by minimizing**\n",
    "\n",
    "$$\n",
    "\\sum^{n}_{i=1} (y_{i} - \\beta_{0} - \\sum_{j=1}^{p}\\beta_{j}x_{ij})^{2} \\text{ subject to } \\sum_{j=1}^{p}\\beta_{j}^{2}\\le s\n",
    "$$"
   ]
  },
  {
   "cell_type": "markdown",
   "metadata": {},
   "source": [
    "**5. It is well-known that ridge regression tends to give similar coefficient values to correlated variables, whereas the lasso may give quite different coefficient values to correlated variables. We will now explore this property in a very simple setting.**\n",
    "\n",
    "Suppose that $n = 2$, $p = 2$, $x_{11} = x_{12}$, $x_{21} = x_{22}$. Furthermore, suppose that $y_{1}+y_{2} = 0$ and $x_{11}+x_{21} = 0$ and $x_{12}+x_{22} = 0$, so that the estimate for the intercept in a least squares, ridge regression, or lasso model is zero: $\\hat{\\beta}_{0} = 0$."
   ]
  },
  {
   "cell_type": "markdown",
   "metadata": {},
   "source": [
    "Lets create a python representation of this dataset to aid our understanding.\n",
    "\n",
    "Here we have $x_{11} = x_{12} = 2$ and $x_{21} = x_{22} = -2$. Furthermore, $y_{1} + y_{2} = -1 + 1 = 0$ and $x_{11} + x_{21} = 2 - 2 = 0$ and $x_{12} + x_{22} = 2 - 2 = 0$"
   ]
  },
  {
   "cell_type": "code",
   "execution_count": 10,
   "metadata": {},
   "outputs": [
    {
     "data": {
      "text/html": [
       "<div>\n",
       "<style scoped>\n",
       "    .dataframe tbody tr th:only-of-type {\n",
       "        vertical-align: middle;\n",
       "    }\n",
       "\n",
       "    .dataframe tbody tr th {\n",
       "        vertical-align: top;\n",
       "    }\n",
       "\n",
       "    .dataframe thead th {\n",
       "        text-align: right;\n",
       "    }\n",
       "</style>\n",
       "<table border=\"1\" class=\"dataframe\">\n",
       "  <thead>\n",
       "    <tr style=\"text-align: right;\">\n",
       "      <th></th>\n",
       "      <th>x1</th>\n",
       "      <th>x2</th>\n",
       "      <th>y</th>\n",
       "    </tr>\n",
       "  </thead>\n",
       "  <tbody>\n",
       "    <tr>\n",
       "      <th>0</th>\n",
       "      <td>2</td>\n",
       "      <td>2</td>\n",
       "      <td>-1</td>\n",
       "    </tr>\n",
       "    <tr>\n",
       "      <th>1</th>\n",
       "      <td>-2</td>\n",
       "      <td>-2</td>\n",
       "      <td>1</td>\n",
       "    </tr>\n",
       "  </tbody>\n",
       "</table>\n",
       "</div>"
      ],
      "text/plain": [
       "   x1  x2  y\n",
       "0   2   2 -1\n",
       "1  -2  -2  1"
      ]
     },
     "execution_count": 10,
     "metadata": {},
     "output_type": "execute_result"
    }
   ],
   "source": [
    "dataset = pd.DataFrame(data = {\n",
    "    'x1':[2, -2],\n",
    "    'x2':[2, -2],\n",
    "    'y':[-1, 1]\n",
    "})\n",
    "\n",
    "dataset"
   ]
  },
  {
   "cell_type": "markdown",
   "metadata": {},
   "source": [
    "Note that our predictors are perfectly postively correlated with eachother"
   ]
  },
  {
   "cell_type": "code",
   "execution_count": 11,
   "metadata": {},
   "outputs": [
    {
     "data": {
      "text/html": [
       "<div>\n",
       "<style scoped>\n",
       "    .dataframe tbody tr th:only-of-type {\n",
       "        vertical-align: middle;\n",
       "    }\n",
       "\n",
       "    .dataframe tbody tr th {\n",
       "        vertical-align: top;\n",
       "    }\n",
       "\n",
       "    .dataframe thead th {\n",
       "        text-align: right;\n",
       "    }\n",
       "</style>\n",
       "<table border=\"1\" class=\"dataframe\">\n",
       "  <thead>\n",
       "    <tr style=\"text-align: right;\">\n",
       "      <th></th>\n",
       "      <th>x1</th>\n",
       "      <th>x2</th>\n",
       "      <th>y</th>\n",
       "    </tr>\n",
       "  </thead>\n",
       "  <tbody>\n",
       "    <tr>\n",
       "      <th>x1</th>\n",
       "      <td>1.0</td>\n",
       "      <td>1.0</td>\n",
       "      <td>-1.0</td>\n",
       "    </tr>\n",
       "    <tr>\n",
       "      <th>x2</th>\n",
       "      <td>1.0</td>\n",
       "      <td>1.0</td>\n",
       "      <td>-1.0</td>\n",
       "    </tr>\n",
       "    <tr>\n",
       "      <th>y</th>\n",
       "      <td>-1.0</td>\n",
       "      <td>-1.0</td>\n",
       "      <td>1.0</td>\n",
       "    </tr>\n",
       "  </tbody>\n",
       "</table>\n",
       "</div>"
      ],
      "text/plain": [
       "     x1   x2    y\n",
       "x1  1.0  1.0 -1.0\n",
       "x2  1.0  1.0 -1.0\n",
       "y  -1.0 -1.0  1.0"
      ]
     },
     "execution_count": 11,
     "metadata": {},
     "output_type": "execute_result"
    }
   ],
   "source": [
    "dataset.corr()"
   ]
  },
  {
   "cell_type": "markdown",
   "metadata": {},
   "source": [
    "*(a) Write out the ridge regression optimization problem in this setting.*\n",
    "\n",
    "In this setting ridge regression aims to minimise the following expression,"
   ]
  },
  {
   "cell_type": "markdown",
   "metadata": {},
   "source": [
    "$$\n",
    "\\sum_{i=1}^{2}(y_{i} - \\sum_{j=1}^{2}\\beta_{j}x_{ij})^{2} + \\lambda\\sum_{j=1}^{2}\\beta^{2}_{j}\n",
    "$$\n",
    "\n",
    "Where, because $x_{i1} = x_{i2}$ we have\n",
    "\n",
    "$$\n",
    "\\sum_{j=1}^{2}\\beta_{j}x_{ij} = x_{i}\\sum_{j=1}^{2}\\beta_{j}\n",
    "$$\n",
    "\n",
    "Therefore,\n",
    "\n",
    "$$\n",
    "(y_{i} - \\sum_{j=1}^{2}\\beta_{j}x_{ij})^{2} = (y_{i} - x_{i}\\sum_{j=1}^{2}\\beta_{j})^{2}\n",
    "$$\n",
    "\n",
    "Which means the aim is to minimise\n",
    "\n",
    "$$\n",
    "\\sum_{i=1}^{2}(y_{i} - x_{i}\\sum_{j=1}^{2}\\beta_{j})^{2} + \\lambda\\sum_{j=1}^{2}\\beta^{2}_{j}\n",
    "$$\n",
    "\n",
    "Which can be written as\n",
    "\n",
    "$$\n",
    "(y_{1} - x_{1}\\beta_{1} - x_{1}\\beta_{2})^{2} + (y_{2} - x_{2}\\beta_{1} - x_{2}\\beta_{2})^{2} + \\lambda\\beta^{2}_{1} + \\lambda\\beta^{2}_{2}\n",
    "$$\n"
   ]
  },
  {
   "cell_type": "markdown",
   "metadata": {},
   "source": [
    "*(b) Argue that in this setting, the ridge coefficient estimates satisfy $\\hat{\\beta}_{1} = \\hat{\\beta}_{2}$*"
   ]
  },
  {
   "cell_type": "markdown",
   "metadata": {},
   "source": [
    "To find the solution to the above, we take the derivative of above expression with respect to $\\beta_{1}$ and $\\beta_{2}$,\n",
    "\n",
    "$$\n",
    "\\frac{\\partial}{\\partial \\beta_{1}} (y_{1} - x_{1}\\beta_{1} - x_{1}\\beta_{2})^{2} + (y_{2} - x_{2}\\beta_{1} - x_{2}\\beta_{2})^{2} + \\lambda\\beta^{2}_{1} + \\lambda\\beta^{2}_{2} = -2x_{1}(y_{1} - x_{1}\\beta_{1} - x_{1}\\beta_{2}) - 2x_{2}(y_{2} - x_{2}\\beta_{1} - x_{2}\\beta_{2}) + 2\\lambda\\beta_{1}\n",
    "$$\n",
    "\n",
    "$$\n",
    "\\frac{\\partial}{\\partial \\beta_{2}}(y_{1} - x_{1}\\beta_{1} - x_{1}\\beta_{2})^{2} + (y_{2} - x_{2}\\beta_{1} - x_{2}\\beta_{2})^{2} + \\lambda\\beta^{2}_{1} + \\lambda\\beta^{2}_{2} = -2x_{1}(y_{1} - x_{1}\\beta_{1} - x_{1}\\beta_{2}) - 2x_{2}(y_{2} - x_{2}\\beta_{1} - x_{2}\\beta_{2}) + 2\\lambda\\beta_{2}\n",
    "$$\n",
    "\n",
    "Then setting them to zero and solving for the coefficients we find\n",
    "\n",
    "$$\n",
    "\\beta_{1} = \\frac{x_{1}(y_{1} - x_{1}\\beta_{1} - x_{1}\\beta_{2}) + x_{2}(y_{2} - x_{2}\\beta_{1} - x_{2}\\beta_{2})}{\\lambda}\n",
    "$$\n",
    "$$\n",
    "\\beta_{2} = \\frac{x_{1}(y_{1} - x_{1}\\beta_{1} - x_{1}\\beta_{2}) + x_{2}(y_{2} - x_{2}\\beta_{1} - x_{2}\\beta_{2})}{\\lambda}\n",
    "$$"
   ]
  },
  {
   "cell_type": "markdown",
   "metadata": {},
   "source": [
    "*(c) Write out the lasso optimization problem in this setting.*"
   ]
  },
  {
   "cell_type": "markdown",
   "metadata": {},
   "source": [
    "In general the lasso regression seeks to minimise\n",
    "\n",
    "$$\n",
    "\\sum_{i=1}^{2}(y_{i} - \\sum_{j=1}^{2}\\beta_{j}x_{ij})^{2} + \\lambda\\sum_{j=1}^{2}|\\beta_{j}|\n",
    "$$\n",
    "\n",
    "This can be simplfied, given the current setting using similar logic as above for,\n",
    "\n",
    "$$\n",
    "(y_{1} - x_{1}\\beta_{1} - x_{1}\\beta_{2})^{2} + (y_{2} - x_{2}\\beta_{1} - x_{2}\\beta_{2})^{2} + \\lambda|\\beta_{1}| + \\lambda|\\beta_{2}|\n",
    "$$\n"
   ]
  },
  {
   "cell_type": "markdown",
   "metadata": {},
   "source": [
    "*(d) Argue that in this setting, the lasso coefficients $\\hat{\\beta}_{1}, \\hat{\\beta}_{2}$ are not unique—in other words, there are many possible solutions to the optimization problem in (c). Describe these solutions.*\n",
    "\n",
    "To find the solutions to the above optimisation problem we use the alternate lass constraint $|\\beta_{1}| + |\\beta_{2}| \\lt s$.\n",
    "\n",
    "When plotted this constraint forms a diamond centred on the origin (0, 0). The squared optimisation problem above can be simplified using the facts given in the question for minimise $(y_{1} - (\\hat{\\beta}_{1} + \\hat{\\beta}_{2})x_{11})^{2}$\n",
    "\n",
    "Clearly a simple solution is $\\hat{\\beta}_{1} + \\hat{\\beta}_{2} = \\frac{y_{1}}{x_{11}}$. This is a line paralell to the edge of the Lasso-diamond $\\hat{\\beta}_{1} + \\hat{\\beta}_{2} = s$. i.e. the entire edge of the diamond lasso is a potential solution. \n",
    "\n",
    "Similar reasoning can show the edge $\\hat{\\beta}_{1} + \\hat{\\beta}_{2} = -s$ is also a set of potential solutions\n",
    "\n"
   ]
  },
  {
   "cell_type": "markdown",
   "metadata": {},
   "source": [
    "**6. A simple special case for the ridge and lasso**\n",
    "\n",
    "In order to obtain a better intuition about the behavior of ridge regression and the lasso, consider a simple special case with $n = p$, and $X$ a diagonal matrix with 1’s on the diagonal and 0’s in all off-diagonal elements. To simplify the problem further, assume also that we are performing regression without an intercept. With these assumptions, the usual least squares problem simplifies to finding $\\beta_{1}, \\beta_{2},...,\\beta_{p}$ that minimize\n",
    "\n",
    "![alt text](../images/least_squares_special_case.png)\n",
    "\n",
    "\n",
    "We will now explore 6.12 and 6.13 further (see below)\n",
    "\n",
    "**Ridge under special case**\n",
    "\n",
    "![alt text](../images/ridge_special_case.png)\n",
    "\n",
    "**Lasso under special case**\n",
    "\n",
    "![alt text](../images/lasso_special_case.png)\n"
   ]
  },
  {
   "cell_type": "markdown",
   "metadata": {},
   "source": [
    "*(a) Consider 6.12 with $p=1$. For some choice of $y_{1}$ and $\\lambda \\gt 0$ plot 6.12 as function of $\\beta_{1}$. The plot should confirm that 6.12 is solved by 6.14*\n",
    "\n",
    "6.14 is displayed below for reference.\n",
    "\n",
    "![alt text](../images/ridge_solution_special_case.png)"
   ]
  },
  {
   "cell_type": "markdown",
   "metadata": {},
   "source": [
    "To plot 6.12 we will write a python function that takes as its arguments $y_{1}$ and $\\lambda$ and calculates the value of 6.12 for a range of $\\beta_{1}$ values. We will call this function `ridge_special_case`. \n",
    "\n"
   ]
  },
  {
   "cell_type": "code",
   "execution_count": 43,
   "metadata": {},
   "outputs": [],
   "source": [
    "def ridge_special_case(y:float, lambda_:float) -> np.ndarray:\n",
    "    beta_1 = np.linspace(-5, 5, 100)\n",
    "    y_beta_1_diff_squared = (y - beta_1)**2\n",
    "    lambda_beta_1_squared_prod = beta_1**2 * lambda_\n",
    "    values = y_beta_1_diff_squared + lambda_beta_1_squared_prod\n",
    "    return np.concatenate((beta_1.reshape(-1, 1), values.reshape(-1, 1)), axis=1)\n",
    "    "
   ]
  },
  {
   "cell_type": "markdown",
   "metadata": {},
   "source": [
    "Furthermore, 6.14 states that the ridge regression estimate for $beta_{1}$ is equal to the ratio of $y_{1}$ over $1 + \\lambda$. We have selected a value of 2 for $y_{1}$ and a value of 9 for $\\lambda$. Hence, we should see the minimum of 6.12 as a function of $\\beta_{1}$ at 0.2.\n",
    "\n",
    "We will plot the point below with a red *."
   ]
  },
  {
   "cell_type": "code",
   "execution_count": 52,
   "metadata": {},
   "outputs": [
    {
     "data": {
      "text/plain": [
       "Text(0.5, 1.0, '6.12 as a function of $\\\\beta_{1}$, $y = 2$, $\\\\lambda=10$')"
      ]
     },
     "execution_count": 52,
     "metadata": {},
     "output_type": "execute_result"
    },
    {
     "data": {
      "image/png": "[encoded data removed]",
      "text/plain": [
       "<Figure size 800x800 with 1 Axes>"
      ]
     },
     "metadata": {},
     "output_type": "display_data"
    }
   ],
   "source": [
    "rsc_values = ridge_special_case(2, 9)\n",
    "fig = plt.figure(figsize=(8,8))\n",
    "ax = fig.add_subplot()\n",
    "\n",
    "ax.plot(rsc_values[:, 0], rsc_values[:, 1])\n",
    "ax.scatter(x=[0.2], y=[(2-0.2)**2 + 0.2**2 * 9], marker='*', c='r')\n",
    "\n",
    "ax.set_xlabel(r'$\\beta_{1}$')\n",
    "ax.set_ylabel(r'6.12($\\beta_{1}$)')\n",
    "ax.set_title(r'6.12 as a function of $\\beta_{1}$, $y = 2$, $\\lambda=10$')"
   ]
  },
  {
   "cell_type": "markdown",
   "metadata": {},
   "source": [
    "*(b) Consider (6.13) with $p = 1$. For some choice of $y_{1}$ and $\\lambda > 0$, plot (6.13) as a function of $\\beta_{1}$. Your plot should confirm that (6.13) is solved by (6.15).*\n",
    "\n",
    "Below is 6.15 for reference\n",
    "\n",
    "![alt text](../images/lasso_solution.png)\n",
    "\n",
    "Clearly to demonstrate this graphically will require three seperate plots. We will follow the same process as above and write a function called `lasso_special_case` that takes values of $y_{1}$ and $\\lambda$, and calculates the value of 6.13 for various $\\beta_{1}$ 's"
   ]
  },
  {
   "cell_type": "code",
   "execution_count": 53,
   "metadata": {},
   "outputs": [],
   "source": [
    "def lasso_special_case(y:float, lambda_:float) -> np.ndarray:\n",
    "    beta_1 = np.linspace(-5, 5, 100)\n",
    "    y_beta_1_diff_squared = (y - beta_1)**2\n",
    "    lamba_abs_beta_1_prod = lambda_ * abs(beta_1)\n",
    "    values = y_beta_1_diff_squared + lamba_abs_beta_1_prod\n",
    "    return np.concatenate((beta_1.reshape(-1, 1), values.reshape(-1, 1)), axis=1)"
   ]
  },
  {
   "cell_type": "code",
   "execution_count": 54,
   "metadata": {},
   "outputs": [],
   "source": [
    "lasso_case_1 = lasso_special_case(5, 4)\n",
    "lasso_case_2 = lasso_special_case(-5, 4)\n",
    "lasso_case_3 = lasso_special_case(2, 6)\n",
    "\n"
   ]
  },
  {
   "cell_type": "code",
   "execution_count": 65,
   "metadata": {},
   "outputs": [
    {
     "data": {
      "text/plain": [
       "(3.0, -3.0, 0)"
      ]
     },
     "execution_count": 65,
     "metadata": {},
     "output_type": "execute_result"
    }
   ],
   "source": [
    "expected_solutions = (5 - 4/2, -5 + 4/2, 0)\n",
    "expected_solutions"
   ]
  },
  {
   "cell_type": "markdown",
   "metadata": {},
   "source": [
    "Lets plot the expected solutions with a red star.\n",
    "\n",
    "We can see that the graphs of the function align with the expected solutions."
   ]
  },
  {
   "cell_type": "code",
   "execution_count": 71,
   "metadata": {},
   "outputs": [
    {
     "data": {
      "text/plain": [
       "<matplotlib.collections.PathCollection at 0x2602f1e3810>"
      ]
     },
     "execution_count": 71,
     "metadata": {},
     "output_type": "execute_result"
    },
    {
     "data": {
      "image/png": "[encoded data removed]",
      "text/plain": [
       "<Figure size 2000x600 with 3 Axes>"
      ]
     },
     "metadata": {},
     "output_type": "display_data"
    }
   ],
   "source": [
    "fig, ax = plt.subplots(1, 3, figsize=(20,6))\n",
    "ax[0].plot(lasso_case_1[:, 0], lasso_case_1[:, 1])\n",
    "ax[0].set_title(r'$y_{j} > \\lambda / 2$')\n",
    "ax[0].scatter(x=[3], y=[(5 - 3)**2+4*3], marker='*', c='r')\n",
    "\n",
    "ax[1].plot(lasso_case_2[:, 0], lasso_case_2[:, 1])\n",
    "ax[1].set_title(r'$y_{j} < -\\lambda / 2$')\n",
    "ax[1].scatter(x=[-3], y=[(-5 + 3)**2+4*3], marker='*', c='r')\n",
    "\n",
    "ax[2].plot(lasso_case_3[:, 0], lasso_case_3[:, 1])\n",
    "ax[2].set_title(r'$|y_{j}| < \\lambda / 2$')\n",
    "ax[2].scatter(x=[0], y=[(2)**2+4*0], marker='*', c='r')"
   ]
  },
  {
   "cell_type": "markdown",
   "metadata": {},
   "source": [
    "**7. Bayesian Connection to Lasso and Ridge**"
   ]
  },
  {
   "cell_type": "markdown",
   "metadata": {},
   "source": [
    "*(a) Suppose that $y_{i} = \\beta_{0} + \\sum_{j=1}^{p}x_{ij}\\beta_{j} + \\epsilon_{i}$, where $\\epsilon_{i},..., \\epsilon_{n}$ are independent identically distributed random variables drawn from an $N(0, \\sigma^{2})$ distribution. Write the likelihood for the data*"
   ]
  },
  {
   "cell_type": "markdown",
   "metadata": {},
   "source": [
    "The likelihood for the data is a function which returns the probability of observing the responses given the predictors and coefficients. That is\n",
    "\n",
    "$$\n",
    "L(y) = P(Y|\\beta, X) = f(y_{1})f(y_{2})...f(y_{n})\n",
    "$$\n",
    "\n",
    "As the irreducible error term is a normally distributed random variable the RHS of the equation is a normal random variable under a change of units, that is,\n",
    "\n",
    "$$\n",
    "\\beta_{0} + \\sum_{j=1}^{p}x_{ij}\\beta_{j} + \\epsilon_{i} \\sim N(\\beta_{0} + \\sum_{j=1}^{p}x_{ij}\\beta_{j}, \\sigma^{2})\n",
    "$$\n",
    "\n",
    "Lets assume $\\beta_{0} + \\sum_{j=1}^{p}x_{ij}\\beta_{j} = \\mu$. Then we have,\n",
    "\n",
    "$$\n",
    "L(y) = f_{N(\\mu, \\sigma_{2})}(y_{1})...f_{N(\\mu, \\sigma_{2})}(y_{n})\n",
    "$$\n",
    "\n",
    "$$\n",
    "L(y) = \\frac{1}{\\sigma\\sqrt{2\\pi}}e^{-\\frac{1}{2}(\\frac{y_{1} - \\mu}{\\sigma})^{2}}...\\frac{1}{\\sigma\\sqrt{2\\pi}}e^{-\\frac{1}{2}(\\frac{y_{n} - \\mu}{\\sigma})^{2}}\n",
    "$$\n",
    "\n",
    "Combining and simplifying we can show that,\n",
    "\n",
    "$$\n",
    "L(y) = (\\frac{1}{\\sigma\\sqrt{2\\pi}})^{n}e^{(-\\frac{1}{2\\sigma^{2}} \\sum_{1}^{n}[y_{i} - \\mu]^{2})}\n",
    "$$\n",
    "\n",
    "Where $\\mu = \\beta_{0} + \\sum_{j=1}^{p}x_{ij}\\beta_{j}$"
   ]
  },
  {
   "cell_type": "markdown",
   "metadata": {},
   "source": [
    "*(b) Assume the following prior for $\\beta: \\beta_{1},...,\\beta_{p}$ are independent and identically distributed random variables drawn from a double exponential distribution with mean 0 and common scale parameter b, i.e. $p(\\beta) = \\frac{1}{2b}e^{-|\\beta|/b}$. Write out the posterior for $\\beta$ in this setting*\n",
    "\n",
    "$$\n",
    "p(\\beta | X, Y) \\propto f(Y | X, \\beta)p(\\beta|X) = f(Y|X, \\beta)p(\\beta)\n",
    "$$\n",
    "\n",
    "$$\n",
    "f(Y|X, \\beta)p(\\beta) = (\\frac{1}{\\sigma\\sqrt{2\\pi}})^{n}e^{(-\\frac{1}{2\\sigma^{2}} \\sum_{1}^{n}[y_{i} - \\beta_{0} + \\sum_{j=1}^{p}x_{ij}\\beta_{j}]^{2})}\\frac{1}{2b}e^{-|\\beta|/b}\n",
    "$$\n",
    "\n",
    "Simplifying\n",
    "\n",
    "$$\n",
    "f(Y|X, \\beta)p(\\beta) = (\\frac{1}{\\sigma\\sqrt{2\\pi}})^{n}\\frac{1}{2b}e^{(-\\frac{1}{2\\sigma^{2}} \\sum_{1}^{n}[y_{i} - \\beta_{0} + \\sum_{j=1}^{p}x_{ij}\\beta_{j}]^{2} -|\\beta|/b)}\n",
    "$$\n",
    "\n"
   ]
  },
  {
   "cell_type": "markdown",
   "metadata": {},
   "source": [
    "*(c) Argue that the lasso estimate is the mode for $\\beta$ under this posterior distribution.*\n",
    "\n",
    "To show that the lasso estimate is the posterior mode for this distribution is the same as showing the most likely value  for β\n",
    "is given by the lasso solution with a certain λ\n",
    "\n",
    "We can do this by taking our likelihood and posterior and showing that it can be reduced to the canonical Lasso Equation 6.7 from the book.\n",
    "\n",
    "![alt text](../images/canonical_lasso.png)\n",
    "\n",
    "Let's start by simplifying it by taking the logarithm of both sides:\n",
    "\n",
    "$$\n",
    "ln(f(Y|X, \\beta)p(\\beta)) = ln[(\\frac{1}{\\sigma\\sqrt{2\\pi}})^{n}\\frac{1}{2b}] -(\\frac{1}{2\\sigma^{2}} \\sum_{1}^{n}[y_{i} - \\beta_{0} + \\sum_{j=1}^{p}x_{ij}\\beta_{j}]^{2} + |\\beta|/b)\n",
    "$$\n",
    "\n",
    "Since the logarithm is monotonic increasing the value which maximises the above also maximises the posterior. Furthermore, since we are taking the difference of two values and only one of them depends on $\\beta$ the maximisation problem becomes the below minimisation problems\n",
    "\n",
    "$$\n",
    "\\argmin_{\\beta} \\frac{1}{2\\sigma^{2}} \\sum_{1}^{n}[y_{i} - \\beta_{0} + \\sum_{j=1}^{p}x_{ij}\\beta_{j}]^{2} + |\\beta|/b\n",
    "$$\n",
    "$$\n",
    "= \\argmin_{\\beta} \\sum_{1}^{n}[y_{i} - \\beta_{0} + \\sum_{j=1}^{p}x_{ij}\\beta_{j}]^{2} + \\frac{2\\sigma^{2}}{b}|\\beta|\n",
    "$$\n",
    "$$\n",
    "= \\argmin_{\\beta} \\sum_{1}^{n}[y_{i} - \\beta_{0} + \\sum_{j=1}^{p}x_{ij}\\beta_{j}]^{2} + \\frac{2\\sigma^{2}}{b}\\sum_{j=1}^{p}|\\beta_{j}|\n",
    "$$\n",
    "\n",
    "By letting $\\lambda = \\frac{2\\sigma^{2}}{b}$ we get,\n",
    "\n",
    "$$\n",
    "= \\argmin_{\\beta} \\sum_{1}^{n}[y_{i} - \\beta_{0} + \\sum_{j=1}^{p}x_{ij}\\beta_{j}]^{2} + \\lambda\\sum_{j=1}^{p}|\\beta_{j}|\n",
    "$$\n",
    "\n",
    "Which is the lasso equation in 6.7\n"
   ]
  },
  {
   "cell_type": "markdown",
   "metadata": {},
   "source": [
    "*(d) Assume the following prior for $\\beta: \\beta_{1},...,\\beta_{p}$ are independent and identically distributed random variables drawn from a normal distribution with mean 0 and variance c. Write out the posterior for $\\beta$ in this setting*\n",
    "\n",
    "$$\n",
    "p(\\beta | X, Y) \\propto f(Y | X, \\beta)p(\\beta|X) = f(Y|X, \\beta)p(\\beta)\n",
    "$$\n",
    "\n",
    "$$\n",
    "p(\\beta) = \\prod_{j=1}^{p}\\frac{1}{\\sqrt{2c\\pi}}e^{-\\frac{\\beta_{j}^{2}}{2c}} = (\\frac{1}{\\sqrt{2c\\pi}})^{p}e^{(-\\frac{1}{2c}\\sum_{j=1}^{p}\\beta_{j}^{2})}\n",
    "$$\n",
    "\n",
    "$$\n",
    "f(Y|X, \\beta)p(\\beta) = (\\frac{1}{\\sigma\\sqrt{2\\pi}})^{n}e^{(-\\frac{1}{2\\sigma^{2}} \\sum_{1}^{n}[y_{i} - \\beta_{0} + \\sum_{j=1}^{p}x_{ij}\\beta_{j}]^{2})}(\\frac{1}{\\sqrt{2c\\pi}})^{p}e^{(-\\frac{1}{2c}\\sum_{j=1}^{p}\\beta_{j}^{2})}\n",
    "$$\n",
    "\n",
    "Simplfying,\n",
    "\n",
    "$$\n",
    "f(Y|X, \\beta)p(\\beta) = (\\frac{1}{\\sigma\\sqrt{2\\pi}})^{n}(\\frac{1}{\\sqrt{2c\\pi}})^{p}e^{(-\\frac{1}{2\\sigma^{2}} \\sum_{1}^{n}[y_{i} - \\beta_{0} + \\sum_{j=1}^{p}x_{ij}\\beta_{j}]^{2}-\\frac{1}{2c}\\sum_{j=1}^{p}\\beta_{j}^{2})}\n",
    "$$\n",
    "\n",
    "\n"
   ]
  },
  {
   "cell_type": "markdown",
   "metadata": {},
   "source": [
    "*(e) Argue that the ridge regression estimate is both the mode and the mean for $\\beta$ under this posterior distribution.*\n",
    "\n",
    "To show it is mode we simply need to show that the maximal value of the posterior above is equivalent to ridge regression minimisation problems. To do this we follow the logic above. First take the log,\n",
    "\n",
    "$$\n",
    "log(f(Y|X, \\beta)p(\\beta)) = ln((\\frac{1}{\\sigma\\sqrt{2\\pi}})^{n}(\\frac{1}{\\sqrt{2c\\pi}})^{p}) - (\\frac{1}{2\\sigma^{2}} \\sum_{1}^{n}[y_{i} + \\beta_{0} + \\sum_{j=1}^{p}x_{ij}\\beta_{j}]^{2}-\\frac{1}{2c}\\sum_{j=1}^{p}\\beta_{j}^{2})\n",
    "$$\n",
    "\n",
    "And realise we only need to minimise the term on the right to find the max,\n",
    "\n",
    "$$\n",
    "\\argmin_{\\beta} \\frac{1}{2\\sigma^{2}} \\sum_{1}^{n}[y_{i} - \\beta_{0} + \\sum_{j=1}^{p}x_{ij}\\beta_{j}]^{2} + \\frac{1}{2c}\\sum_{j=1}^{p}\\beta_{j}^{2}\n",
    "$$\n",
    "$$\n",
    "\\argmin_{\\beta} \\sum_{1}^{n}[y_{i} - \\beta_{0} + \\sum_{j=1}^{p}x_{ij}\\beta_{j}]^{2} + \\frac{\\sigma^{2}}{c}\\sum_{j=1}^{p}\\beta_{j}^{2}\n",
    "$$\n",
    "\n",
    "Setting $\\lambda$ equal to $\\frac{\\sigma^{2}}{c}$ gives\n",
    "\n",
    "$$\n",
    "\\argmin_{\\beta} \\sum_{1}^{n}[y_{i} - \\beta_{0} + \\sum_{j=1}^{p}x_{ij}\\beta_{j}]^{2} + \\lambda \\sum_{j=1}^{p}\\beta_{j}^{2}\n",
    "$$\n",
    "\n",
    "Which is the ridge regression equation from 6.5."
   ]
  }
 ],
 "metadata": {
  "kernelspec": {
   "display_name": "sl_env",
   "language": "python",
   "name": "python3"
  },
  "language_info": {
   "codemirror_mode": {
    "name": "ipython",
    "version": 3
   },
   "file_extension": ".py",
   "mimetype": "text/x-python",
   "name": "python",
   "nbconvert_exporter": "python",
   "pygments_lexer": "ipython3",
   "version": "3.11.4"
  }
 },
 "nbformat": 4,
 "nbformat_minor": 2
}
