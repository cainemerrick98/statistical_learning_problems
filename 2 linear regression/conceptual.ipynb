{
 "cells": [
  {
   "cell_type": "markdown",
   "metadata": {},
   "source": [
    "# Linear Regression"
   ]
  },
  {
   "cell_type": "markdown",
   "metadata": {},
   "source": [
    "**1.Describe the null hypotheses to which the p-values given in Table 3.4 correspond. Explain what conclusions you can draw based on these p-values. Your explanation should be phrased in terms of sales, TV, radio, and newspaper, rather than in terms of the coefficients of the linearmodel.**\n",
    "\n"
   ]
  },
  {
   "cell_type": "markdown",
   "metadata": {},
   "source": [
    "![alt text](<../images/Screenshot 2024-05-07 210812.png>)"
   ]
  },
  {
   "cell_type": "markdown",
   "metadata": {},
   "source": [
    "The null hypotheses corresponding to p-values above are the hypotheses the amount of spending on TV, radio and newspaper advertising is not associated with the number of units of sold. An example would be, assuming $\\beta_{1}$ is the coefficient for TV,\n",
    "\n",
    "$$\n",
    "H_{0} : \\beta_{1} = 0\n",
    "$$\n",
    "$$\n",
    "H_{a} : \\beta_{1} \\ne 0\n",
    "$$\n",
    "\n",
    "Thats is the null is the coefficient is equal to zero and the alternative is the coefficient does not equal zero, i.e. there is some association. These hypotheses are tested using the t-statistic. The t-statistic for the coefficients of a linear regression model is simply,\n",
    "\n",
    "$$\n",
    "\\frac{\\hat{\\beta}_{1}}{SE(\\hat{\\beta}_{1})}\n",
    "$$\n",
    "\n",
    "This is the studentised mean, where when we assume the null is true i.e. $\\beta_{1} = 0$ the numerator is simply our estimate for the coefficient. A t-statistic close to zero means that our estimate for the coefficient is close to zero and is evidence in favour of the null, how close is too close depends and variance of our estimator which is captured by $SE(\\hat{\\beta}_{1})$. \n",
    "\n",
    "The p-values represent the probability that we observe a value of coefficient at least as extreme as the one we have observed i.e. they represent\n",
    "\n",
    "$$\n",
    "P(\\beta_{1} \\gt \\hat{\\beta}_{1} | H_{0})\n",
    "$$\n",
    "\n",
    "That is, the probability that the true coefficient is greater than the estimated coefficient given the null hypothesis is true. In table 3.4 the p-values for both advertising and and radio are very small, this means we can conclude the null is false (we would never observe these coefficents if the null were actually true) and there is some association between units sold and these two mediums. On the other hand, the p-value for newspaper is very high, it is highly likely that the observed coefficient is the result of pure chance and the null is true - there is no association between units sold and newspaper spend."
   ]
  },
  {
   "cell_type": "markdown",
   "metadata": {},
   "source": [
    "**2. Suppose we have a data set with five predictors, $X_{1} = GPA$, $X_{2} = IQ$, $X_{3} = \\text{Level (1 for College and 0 for High School)}$, $X_{4} = \\text{Interaction between GPA and IQ}$, and $X_{5} = \\text{Interaction between GPA and Level}$. The response is starting salary after graduation (in thousands of dollars). Suppose we use least squares to fit the model, and get $\\hat{\\beta}_{0} = 50, \\hat{\\beta}_{1} = 20, \\hat{\\beta}_{2} = 0.07, \\hat{\\beta}_{3} = 35, \\hat{\\beta}_{4} = 0.01, \\hat{\\beta}_{5} = −10.$**\n",
    "\n",
    "*(a) Indicate which answer is correct and why.*\n",
    "\n",
    "1. For a fixed value of IQ and GPA, high school graduates earn more, on average, than college graduates.\n",
    "\n",
    "2. For a fixed value of IQ and GPA, college graduates earn more, on average, than high school graduates.\n",
    "\n",
    "3. For a fixed value of IQ and GPA, high school graduates earn more, on average, than college graduates provided that the GPA is high enough.\n",
    "\n",
    "4. For a fixed value of IQ and GPA, college graduates earn more, on average, than high school graduates provided that the GPA is high enough.\n",
    "\n",
    "To answer this question first lets examine our model. Each answer compared highschool and college grads and the IQ and GPA remain fixed. As level is a dummy variable there are actuall two models.\n",
    "When observation is a college grad we have,\n",
    "\n",
    "$$\n",
    "y_{college} = \\beta_{1}X_{1} + \\beta_{2}X_{2} + \\beta_{3}X_{3} + \\beta_{4}X_{1}X_{2} + \\beta_{5}X_{3}X_{1}\n",
    "$$\n",
    "\n",
    "When they are a highschool grad we have $X_{3} = 0$ therefore,\n",
    "\n",
    "$$\n",
    "y_{highschool} = \\beta_{1}X_{1} + \\beta_{2}X_{2} + \\beta_{4}X_{1}X_{2}\n",
    "$$\n",
    "\n",
    "Notice that $\\beta_{5}$ is negative. As GPA increases the effect of going to college actually decreases starting salary. This would indicate that perhaps 3. is correct. Answer 3 is asserting that there are some values that satisfy\n",
    "\n",
    "$$\n",
    "\\beta_{1}X_{1} + \\beta_{2}X_{2} + \\beta_{3}X_{3} + \\beta_{4}X_{1}X_{2} + \\beta_{5}X_{3}X_{1} \\lt \\beta_{1}X_{1} + \\beta_{2}X_{2} + \\beta_{4}X_{1}X_{2}\n",
    "$$\n",
    "\n",
    "Firstly, not the common terms cancel therefore we are left with\n",
    "\n",
    "$$\n",
    "\\beta_{3}X_{3} + \\beta_{5}X_{3}X_{1} \\lt 0\n",
    "$$\n",
    "\n",
    "$$\n",
    "\\beta_{3}X_{3}  \\lt -\\beta_{5}X_{3}X_{1}\n",
    "$$\n",
    "\n",
    "Note that this makes intuitive sense, a highschool graduate can earn more than a college graduate if the positive effect of going college is less than negative interaction between going to college and their GPA. To solve this we simply plug in the coefficients and the value of 1 for $X_{3}$ for\n",
    "\n",
    "$$\n",
    "35 \\lt 10X_{1}\n",
    "$$\n",
    "\n",
    "or,\n",
    "\n",
    "$$\n",
    "X_{1} \\gt 3.5 \n",
    "$$\n",
    "\n",
    "That is if a highschool student and a college student both have a GPA of $\\gt 3.5$ the same IQ then the highschool student will, on average make more money. \n"
   ]
  }
 ],
 "metadata": {
  "language_info": {
   "name": "python"
  }
 },
 "nbformat": 4,
 "nbformat_minor": 2
}
